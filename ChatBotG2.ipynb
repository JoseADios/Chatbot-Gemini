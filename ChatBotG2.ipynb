{
  "nbformat": 4,
  "nbformat_minor": 0,
  "metadata": {
    "colab": {
      "provenance": [],
      "collapsed_sections": [
        "l05IG3heU_pi",
        "wlv0xHMlVGrR",
        "C14W0fiaPwcH",
        "Vcj_MxKOP76S",
        "y6XajtcGt_fw",
        "IXFSV9bONrqm"
      ]
    },
    "kernelspec": {
      "name": "python3",
      "display_name": "Python 3"
    },
    "language_info": {
      "name": "python"
    },
    "widgets": {
      "application/vnd.jupyter.widget-state+json": {
        "e022116a39cc4788be43104b831e47f6": {
          "model_module": "@jupyter-widgets/controls",
          "model_name": "VBoxModel",
          "model_module_version": "1.5.0",
          "state": {
            "_dom_classes": [],
            "_model_module": "@jupyter-widgets/controls",
            "_model_module_version": "1.5.0",
            "_model_name": "VBoxModel",
            "_view_count": null,
            "_view_module": "@jupyter-widgets/controls",
            "_view_module_version": "1.5.0",
            "_view_name": "VBoxView",
            "box_style": "",
            "children": [
              "IPY_MODEL_bbb114588365439f82e36f49ab3ce81a"
            ],
            "layout": "IPY_MODEL_f06ab27198b84c4bb4d232a56779081c"
          }
        },
        "bbb114588365439f82e36f49ab3ce81a": {
          "model_module": "@jupyter-widgets/controls",
          "model_name": "VBoxModel",
          "model_module_version": "1.5.0",
          "state": {
            "_dom_classes": [],
            "_model_module": "@jupyter-widgets/controls",
            "_model_module_version": "1.5.0",
            "_model_name": "VBoxModel",
            "_view_count": null,
            "_view_module": "@jupyter-widgets/controls",
            "_view_module_version": "1.5.0",
            "_view_name": "VBoxView",
            "box_style": "",
            "children": [
              "IPY_MODEL_2738ebac181548fdb801cee1f3320abe",
              "IPY_MODEL_09c7800916bf48919e0106b1c8e83789",
              "IPY_MODEL_69aee0ba534546a38553f39367ccaa03"
            ],
            "layout": "IPY_MODEL_c080f681112649fcbaa5c2114b47c908"
          }
        },
        "f06ab27198b84c4bb4d232a56779081c": {
          "model_module": "@jupyter-widgets/base",
          "model_name": "LayoutModel",
          "model_module_version": "1.2.0",
          "state": {
            "_model_module": "@jupyter-widgets/base",
            "_model_module_version": "1.2.0",
            "_model_name": "LayoutModel",
            "_view_count": null,
            "_view_module": "@jupyter-widgets/base",
            "_view_module_version": "1.2.0",
            "_view_name": "LayoutView",
            "align_content": null,
            "align_items": "center",
            "align_self": null,
            "border": null,
            "bottom": null,
            "display": "flex",
            "flex": null,
            "flex_flow": "column",
            "grid_area": null,
            "grid_auto_columns": null,
            "grid_auto_flow": null,
            "grid_auto_rows": null,
            "grid_column": null,
            "grid_gap": null,
            "grid_row": null,
            "grid_template_areas": null,
            "grid_template_columns": null,
            "grid_template_rows": null,
            "height": null,
            "justify_content": "center",
            "justify_items": null,
            "left": null,
            "margin": null,
            "max_height": null,
            "max_width": null,
            "min_height": null,
            "min_width": null,
            "object_fit": null,
            "object_position": null,
            "order": null,
            "overflow": null,
            "overflow_x": null,
            "overflow_y": null,
            "padding": null,
            "right": null,
            "top": null,
            "visibility": null,
            "width": "100%"
          }
        },
        "2738ebac181548fdb801cee1f3320abe": {
          "model_module": "@jupyter-widgets/controls",
          "model_name": "HTMLModel",
          "model_module_version": "1.5.0",
          "state": {
            "_dom_classes": [],
            "_model_module": "@jupyter-widgets/controls",
            "_model_module_version": "1.5.0",
            "_model_name": "HTMLModel",
            "_view_count": null,
            "_view_module": "@jupyter-widgets/controls",
            "_view_module_version": "1.5.0",
            "_view_name": "HTMLView",
            "description": "",
            "description_tooltip": null,
            "layout": "IPY_MODEL_a8eb87bb57524f88a5aa75bec5e5ed92",
            "placeholder": "​",
            "style": "IPY_MODEL_38eac475fe6b4ad8a865e4b3aae92a1e",
            "value": "<h2>Nutrition Chatbot</h2><p>\n🍏 ¡Bienvenido a NutriBot! 🍇\n\nTu aliado en el camino hacia un estilo de vida más saludable.\n\nAquí podrás aprender sobre:\n\n\n🥗 Dietas equilibradas\n\n🍳 Recetas llenas de sabor y nutrientes\n\n📊 Información nutricional de tus alimentos favoritos\n\n💪 Consejos para optimizar tus hábitos alimenticios.\n\n\n¿Quieres saber cómo combinar alimentos para lograr una dieta balanceada?\n\n¿Necesitas ideas para cenas saludables y deliciosas?\n\n¡Estoy aquí para ayudarte a alimentar tu vida!\n\n</p>"
          }
        },
        "09c7800916bf48919e0106b1c8e83789": {
          "model_module": "@jupyter-widgets/controls",
          "model_name": "BoxModel",
          "model_module_version": "1.5.0",
          "state": {
            "_dom_classes": [],
            "_model_module": "@jupyter-widgets/controls",
            "_model_module_version": "1.5.0",
            "_model_name": "BoxModel",
            "_view_count": null,
            "_view_module": "@jupyter-widgets/controls",
            "_view_module_version": "1.5.0",
            "_view_name": "BoxView",
            "box_style": "",
            "children": [
              "IPY_MODEL_b35927031c7c4aacaf28c1dc8c198225",
              "IPY_MODEL_a200f0305f0c4f7b981a1a39f9511016"
            ],
            "layout": "IPY_MODEL_5ee671863a124d8282d44a60cc9fe50e"
          }
        },
        "69aee0ba534546a38553f39367ccaa03": {
          "model_module": "@jupyter-widgets/controls",
          "model_name": "VBoxModel",
          "model_module_version": "1.5.0",
          "state": {
            "_dom_classes": [],
            "_model_module": "@jupyter-widgets/controls",
            "_model_module_version": "1.5.0",
            "_model_name": "VBoxModel",
            "_view_count": null,
            "_view_module": "@jupyter-widgets/controls",
            "_view_module_version": "1.5.0",
            "_view_name": "VBoxView",
            "box_style": "",
            "children": [],
            "layout": "IPY_MODEL_b75b840732b6416c8c1aae597139d54d"
          }
        },
        "c080f681112649fcbaa5c2114b47c908": {
          "model_module": "@jupyter-widgets/base",
          "model_name": "LayoutModel",
          "model_module_version": "1.2.0",
          "state": {
            "_model_module": "@jupyter-widgets/base",
            "_model_module_version": "1.2.0",
            "_model_name": "LayoutModel",
            "_view_count": null,
            "_view_module": "@jupyter-widgets/base",
            "_view_module_version": "1.2.0",
            "_view_name": "LayoutView",
            "align_content": null,
            "align_items": null,
            "align_self": null,
            "border": null,
            "bottom": null,
            "display": "flex",
            "flex": null,
            "flex_flow": "column",
            "grid_area": null,
            "grid_auto_columns": null,
            "grid_auto_flow": null,
            "grid_auto_rows": null,
            "grid_column": null,
            "grid_gap": null,
            "grid_row": null,
            "grid_template_areas": null,
            "grid_template_columns": null,
            "grid_template_rows": null,
            "height": null,
            "justify_content": "center",
            "justify_items": null,
            "left": null,
            "margin": null,
            "max_height": null,
            "max_width": null,
            "min_height": null,
            "min_width": null,
            "object_fit": null,
            "object_position": null,
            "order": null,
            "overflow": null,
            "overflow_x": null,
            "overflow_y": null,
            "padding": null,
            "right": null,
            "top": null,
            "visibility": null,
            "width": "80%"
          }
        },
        "a8eb87bb57524f88a5aa75bec5e5ed92": {
          "model_module": "@jupyter-widgets/base",
          "model_name": "LayoutModel",
          "model_module_version": "1.2.0",
          "state": {
            "_model_module": "@jupyter-widgets/base",
            "_model_module_version": "1.2.0",
            "_model_name": "LayoutModel",
            "_view_count": null,
            "_view_module": "@jupyter-widgets/base",
            "_view_module_version": "1.2.0",
            "_view_name": "LayoutView",
            "align_content": null,
            "align_items": null,
            "align_self": null,
            "border": null,
            "bottom": null,
            "display": null,
            "flex": null,
            "flex_flow": null,
            "grid_area": null,
            "grid_auto_columns": null,
            "grid_auto_flow": null,
            "grid_auto_rows": null,
            "grid_column": null,
            "grid_gap": null,
            "grid_row": null,
            "grid_template_areas": null,
            "grid_template_columns": null,
            "grid_template_rows": null,
            "height": null,
            "justify_content": null,
            "justify_items": null,
            "left": null,
            "margin": null,
            "max_height": null,
            "max_width": null,
            "min_height": null,
            "min_width": null,
            "object_fit": null,
            "object_position": null,
            "order": null,
            "overflow": null,
            "overflow_x": null,
            "overflow_y": null,
            "padding": null,
            "right": null,
            "top": null,
            "visibility": null,
            "width": null
          }
        },
        "38eac475fe6b4ad8a865e4b3aae92a1e": {
          "model_module": "@jupyter-widgets/controls",
          "model_name": "DescriptionStyleModel",
          "model_module_version": "1.5.0",
          "state": {
            "_model_module": "@jupyter-widgets/controls",
            "_model_module_version": "1.5.0",
            "_model_name": "DescriptionStyleModel",
            "_view_count": null,
            "_view_module": "@jupyter-widgets/base",
            "_view_module_version": "1.2.0",
            "_view_name": "StyleView",
            "description_width": ""
          }
        },
        "b35927031c7c4aacaf28c1dc8c198225": {
          "model_module": "@jupyter-widgets/controls",
          "model_name": "TextModel",
          "model_module_version": "1.5.0",
          "state": {
            "_dom_classes": [],
            "_model_module": "@jupyter-widgets/controls",
            "_model_module_version": "1.5.0",
            "_model_name": "TextModel",
            "_view_count": null,
            "_view_module": "@jupyter-widgets/controls",
            "_view_module_version": "1.5.0",
            "_view_name": "TextView",
            "continuous_update": true,
            "description": "",
            "description_tooltip": null,
            "disabled": false,
            "layout": "IPY_MODEL_707df056e433416997e55bf5fee6bf51",
            "placeholder": "Escribe tu pregunta",
            "style": "IPY_MODEL_41c1f2f8473c459ea7d622473cce9e3c",
            "value": "hola"
          }
        },
        "a200f0305f0c4f7b981a1a39f9511016": {
          "model_module": "@jupyter-widgets/controls",
          "model_name": "ButtonModel",
          "model_module_version": "1.5.0",
          "state": {
            "_dom_classes": [],
            "_model_module": "@jupyter-widgets/controls",
            "_model_module_version": "1.5.0",
            "_model_name": "ButtonModel",
            "_view_count": null,
            "_view_module": "@jupyter-widgets/controls",
            "_view_module_version": "1.5.0",
            "_view_name": "ButtonView",
            "button_style": "primary",
            "description": "Enviar",
            "disabled": false,
            "icon": "check",
            "layout": "IPY_MODEL_8e6efb6a5a194cf088bd32f5c48f4882",
            "style": "IPY_MODEL_b536c543af8b4e058333225d4bb4497b",
            "tooltip": "Enviar"
          }
        },
        "5ee671863a124d8282d44a60cc9fe50e": {
          "model_module": "@jupyter-widgets/base",
          "model_name": "LayoutModel",
          "model_module_version": "1.2.0",
          "state": {
            "_model_module": "@jupyter-widgets/base",
            "_model_module_version": "1.2.0",
            "_model_name": "LayoutModel",
            "_view_count": null,
            "_view_module": "@jupyter-widgets/base",
            "_view_module_version": "1.2.0",
            "_view_name": "LayoutView",
            "align_content": null,
            "align_items": "stretch",
            "align_self": null,
            "border": null,
            "bottom": null,
            "display": "flex",
            "flex": null,
            "flex_flow": null,
            "grid_area": null,
            "grid_auto_columns": null,
            "grid_auto_flow": null,
            "grid_auto_rows": null,
            "grid_column": null,
            "grid_gap": null,
            "grid_row": null,
            "grid_template_areas": null,
            "grid_template_columns": null,
            "grid_template_rows": null,
            "height": null,
            "justify_content": "space-between",
            "justify_items": null,
            "left": null,
            "margin": "10px 0",
            "max_height": null,
            "max_width": null,
            "min_height": null,
            "min_width": null,
            "object_fit": null,
            "object_position": null,
            "order": null,
            "overflow": null,
            "overflow_x": null,
            "overflow_y": null,
            "padding": null,
            "right": null,
            "top": null,
            "visibility": null,
            "width": "100%"
          }
        },
        "b75b840732b6416c8c1aae597139d54d": {
          "model_module": "@jupyter-widgets/base",
          "model_name": "LayoutModel",
          "model_module_version": "1.2.0",
          "state": {
            "_model_module": "@jupyter-widgets/base",
            "_model_module_version": "1.2.0",
            "_model_name": "LayoutModel",
            "_view_count": null,
            "_view_module": "@jupyter-widgets/base",
            "_view_module_version": "1.2.0",
            "_view_name": "LayoutView",
            "align_content": null,
            "align_items": null,
            "align_self": null,
            "border": null,
            "bottom": null,
            "display": null,
            "flex": null,
            "flex_flow": null,
            "grid_area": null,
            "grid_auto_columns": null,
            "grid_auto_flow": null,
            "grid_auto_rows": null,
            "grid_column": null,
            "grid_gap": null,
            "grid_row": null,
            "grid_template_areas": null,
            "grid_template_columns": null,
            "grid_template_rows": null,
            "height": null,
            "justify_content": null,
            "justify_items": null,
            "left": null,
            "margin": null,
            "max_height": "400px",
            "max_width": null,
            "min_height": null,
            "min_width": null,
            "object_fit": null,
            "object_position": null,
            "order": null,
            "overflow": null,
            "overflow_x": null,
            "overflow_y": null,
            "padding": null,
            "right": null,
            "top": null,
            "visibility": null,
            "width": null
          }
        },
        "707df056e433416997e55bf5fee6bf51": {
          "model_module": "@jupyter-widgets/base",
          "model_name": "LayoutModel",
          "model_module_version": "1.2.0",
          "state": {
            "_model_module": "@jupyter-widgets/base",
            "_model_module_version": "1.2.0",
            "_model_name": "LayoutModel",
            "_view_count": null,
            "_view_module": "@jupyter-widgets/base",
            "_view_module_version": "1.2.0",
            "_view_name": "LayoutView",
            "align_content": null,
            "align_items": null,
            "align_self": null,
            "border": null,
            "bottom": null,
            "display": null,
            "flex": null,
            "flex_flow": null,
            "grid_area": null,
            "grid_auto_columns": null,
            "grid_auto_flow": null,
            "grid_auto_rows": null,
            "grid_column": null,
            "grid_gap": null,
            "grid_row": null,
            "grid_template_areas": null,
            "grid_template_columns": null,
            "grid_template_rows": null,
            "height": null,
            "justify_content": null,
            "justify_items": null,
            "left": null,
            "margin": null,
            "max_height": null,
            "max_width": null,
            "min_height": null,
            "min_width": null,
            "object_fit": null,
            "object_position": null,
            "order": null,
            "overflow": null,
            "overflow_x": null,
            "overflow_y": null,
            "padding": null,
            "right": null,
            "top": null,
            "visibility": null,
            "width": "70%"
          }
        },
        "41c1f2f8473c459ea7d622473cce9e3c": {
          "model_module": "@jupyter-widgets/controls",
          "model_name": "DescriptionStyleModel",
          "model_module_version": "1.5.0",
          "state": {
            "_model_module": "@jupyter-widgets/controls",
            "_model_module_version": "1.5.0",
            "_model_name": "DescriptionStyleModel",
            "_view_count": null,
            "_view_module": "@jupyter-widgets/base",
            "_view_module_version": "1.2.0",
            "_view_name": "StyleView",
            "description_width": ""
          }
        },
        "8e6efb6a5a194cf088bd32f5c48f4882": {
          "model_module": "@jupyter-widgets/base",
          "model_name": "LayoutModel",
          "model_module_version": "1.2.0",
          "state": {
            "_model_module": "@jupyter-widgets/base",
            "_model_module_version": "1.2.0",
            "_model_name": "LayoutModel",
            "_view_count": null,
            "_view_module": "@jupyter-widgets/base",
            "_view_module_version": "1.2.0",
            "_view_name": "LayoutView",
            "align_content": null,
            "align_items": null,
            "align_self": null,
            "border": null,
            "bottom": null,
            "display": null,
            "flex": null,
            "flex_flow": null,
            "grid_area": null,
            "grid_auto_columns": null,
            "grid_auto_flow": null,
            "grid_auto_rows": null,
            "grid_column": null,
            "grid_gap": null,
            "grid_row": null,
            "grid_template_areas": null,
            "grid_template_columns": null,
            "grid_template_rows": null,
            "height": null,
            "justify_content": null,
            "justify_items": null,
            "left": null,
            "margin": null,
            "max_height": null,
            "max_width": null,
            "min_height": null,
            "min_width": null,
            "object_fit": null,
            "object_position": null,
            "order": null,
            "overflow": null,
            "overflow_x": null,
            "overflow_y": null,
            "padding": null,
            "right": null,
            "top": null,
            "visibility": null,
            "width": null
          }
        },
        "b536c543af8b4e058333225d4bb4497b": {
          "model_module": "@jupyter-widgets/controls",
          "model_name": "ButtonStyleModel",
          "model_module_version": "1.5.0",
          "state": {
            "_model_module": "@jupyter-widgets/controls",
            "_model_module_version": "1.5.0",
            "_model_name": "ButtonStyleModel",
            "_view_count": null,
            "_view_module": "@jupyter-widgets/base",
            "_view_module_version": "1.2.0",
            "_view_name": "StyleView",
            "button_color": null,
            "font_weight": ""
          }
        }
      }
    }
  },
  "cells": [
    {
      "cell_type": "markdown",
      "source": [
        "# Chat bot con gemini"
      ],
      "metadata": {
        "id": "EklzOiXcOGhZ"
      }
    },
    {
      "cell_type": "markdown",
      "source": [
        "# Instalacion de librerias"
      ],
      "metadata": {
        "id": "l05IG3heU_pi"
      }
    },
    {
      "cell_type": "code",
      "source": [
        "!pip install genai"
      ],
      "metadata": {
        "id": "0u3lUTk6Pg2B",
        "colab": {
          "base_uri": "https://localhost:8080/"
        },
        "outputId": "f7c54541-520a-41e1-ba0b-fc3add883f85"
      },
      "execution_count": null,
      "outputs": [
        {
          "output_type": "stream",
          "name": "stdout",
          "text": [
            "Requirement already satisfied: genai in /usr/local/lib/python3.10/dist-packages (2.1.0)\n",
            "Requirement already satisfied: ipython<9.0.0,>=8.10.0 in /usr/local/lib/python3.10/dist-packages (from genai) (8.25.0)\n",
            "Requirement already satisfied: openai<0.28.0,>=0.27.0 in /usr/local/lib/python3.10/dist-packages (from genai) (0.27.10)\n",
            "Requirement already satisfied: tabulate<0.10.0,>=0.9.0 in /usr/local/lib/python3.10/dist-packages (from genai) (0.9.0)\n",
            "Requirement already satisfied: tiktoken<0.4.0,>=0.3.2 in /usr/local/lib/python3.10/dist-packages (from genai) (0.3.3)\n",
            "Requirement already satisfied: decorator in /usr/local/lib/python3.10/dist-packages (from ipython<9.0.0,>=8.10.0->genai) (4.4.2)\n",
            "Requirement already satisfied: jedi>=0.16 in /usr/local/lib/python3.10/dist-packages (from ipython<9.0.0,>=8.10.0->genai) (0.19.1)\n",
            "Requirement already satisfied: matplotlib-inline in /usr/local/lib/python3.10/dist-packages (from ipython<9.0.0,>=8.10.0->genai) (0.1.7)\n",
            "Requirement already satisfied: prompt-toolkit<3.1.0,>=3.0.41 in /usr/local/lib/python3.10/dist-packages (from ipython<9.0.0,>=8.10.0->genai) (3.0.47)\n",
            "Requirement already satisfied: pygments>=2.4.0 in /usr/local/lib/python3.10/dist-packages (from ipython<9.0.0,>=8.10.0->genai) (2.16.1)\n",
            "Requirement already satisfied: stack-data in /usr/local/lib/python3.10/dist-packages (from ipython<9.0.0,>=8.10.0->genai) (0.6.3)\n",
            "Requirement already satisfied: traitlets>=5.13.0 in /usr/local/lib/python3.10/dist-packages (from ipython<9.0.0,>=8.10.0->genai) (5.14.3)\n",
            "Requirement already satisfied: exceptiongroup in /usr/local/lib/python3.10/dist-packages (from ipython<9.0.0,>=8.10.0->genai) (1.2.1)\n",
            "Requirement already satisfied: typing-extensions>=4.6 in /usr/local/lib/python3.10/dist-packages (from ipython<9.0.0,>=8.10.0->genai) (4.12.2)\n",
            "Requirement already satisfied: pexpect>4.3 in /usr/local/lib/python3.10/dist-packages (from ipython<9.0.0,>=8.10.0->genai) (4.9.0)\n",
            "Requirement already satisfied: requests>=2.20 in /usr/local/lib/python3.10/dist-packages (from openai<0.28.0,>=0.27.0->genai) (2.31.0)\n",
            "Requirement already satisfied: tqdm in /usr/local/lib/python3.10/dist-packages (from openai<0.28.0,>=0.27.0->genai) (4.66.4)\n",
            "Requirement already satisfied: aiohttp in /usr/local/lib/python3.10/dist-packages (from openai<0.28.0,>=0.27.0->genai) (3.9.5)\n",
            "Requirement already satisfied: regex>=2022.1.18 in /usr/local/lib/python3.10/dist-packages (from tiktoken<0.4.0,>=0.3.2->genai) (2024.5.15)\n",
            "Requirement already satisfied: parso<0.9.0,>=0.8.3 in /usr/local/lib/python3.10/dist-packages (from jedi>=0.16->ipython<9.0.0,>=8.10.0->genai) (0.8.4)\n",
            "Requirement already satisfied: ptyprocess>=0.5 in /usr/local/lib/python3.10/dist-packages (from pexpect>4.3->ipython<9.0.0,>=8.10.0->genai) (0.7.0)\n",
            "Requirement already satisfied: wcwidth in /usr/local/lib/python3.10/dist-packages (from prompt-toolkit<3.1.0,>=3.0.41->ipython<9.0.0,>=8.10.0->genai) (0.2.13)\n",
            "Requirement already satisfied: charset-normalizer<4,>=2 in /usr/local/lib/python3.10/dist-packages (from requests>=2.20->openai<0.28.0,>=0.27.0->genai) (3.3.2)\n",
            "Requirement already satisfied: idna<4,>=2.5 in /usr/local/lib/python3.10/dist-packages (from requests>=2.20->openai<0.28.0,>=0.27.0->genai) (3.7)\n",
            "Requirement already satisfied: urllib3<3,>=1.21.1 in /usr/local/lib/python3.10/dist-packages (from requests>=2.20->openai<0.28.0,>=0.27.0->genai) (2.0.7)\n",
            "Requirement already satisfied: certifi>=2017.4.17 in /usr/local/lib/python3.10/dist-packages (from requests>=2.20->openai<0.28.0,>=0.27.0->genai) (2024.6.2)\n",
            "Requirement already satisfied: aiosignal>=1.1.2 in /usr/local/lib/python3.10/dist-packages (from aiohttp->openai<0.28.0,>=0.27.0->genai) (1.3.1)\n",
            "Requirement already satisfied: attrs>=17.3.0 in /usr/local/lib/python3.10/dist-packages (from aiohttp->openai<0.28.0,>=0.27.0->genai) (23.2.0)\n",
            "Requirement already satisfied: frozenlist>=1.1.1 in /usr/local/lib/python3.10/dist-packages (from aiohttp->openai<0.28.0,>=0.27.0->genai) (1.4.1)\n",
            "Requirement already satisfied: multidict<7.0,>=4.5 in /usr/local/lib/python3.10/dist-packages (from aiohttp->openai<0.28.0,>=0.27.0->genai) (6.0.5)\n",
            "Requirement already satisfied: yarl<2.0,>=1.0 in /usr/local/lib/python3.10/dist-packages (from aiohttp->openai<0.28.0,>=0.27.0->genai) (1.9.4)\n",
            "Requirement already satisfied: async-timeout<5.0,>=4.0 in /usr/local/lib/python3.10/dist-packages (from aiohttp->openai<0.28.0,>=0.27.0->genai) (4.0.3)\n",
            "Requirement already satisfied: executing>=1.2.0 in /usr/local/lib/python3.10/dist-packages (from stack-data->ipython<9.0.0,>=8.10.0->genai) (2.0.1)\n",
            "Requirement already satisfied: asttokens>=2.1.0 in /usr/local/lib/python3.10/dist-packages (from stack-data->ipython<9.0.0,>=8.10.0->genai) (2.4.1)\n",
            "Requirement already satisfied: pure-eval in /usr/local/lib/python3.10/dist-packages (from stack-data->ipython<9.0.0,>=8.10.0->genai) (0.2.2)\n",
            "Requirement already satisfied: six>=1.12.0 in /usr/local/lib/python3.10/dist-packages (from asttokens>=2.1.0->stack-data->ipython<9.0.0,>=8.10.0->genai) (1.16.0)\n"
          ]
        }
      ]
    },
    {
      "cell_type": "markdown",
      "source": [
        "# Importacion y api key"
      ],
      "metadata": {
        "id": "wlv0xHMlVGrR"
      }
    },
    {
      "cell_type": "code",
      "execution_count": null,
      "metadata": {
        "id": "pYtFYYynN-hL"
      },
      "outputs": [],
      "source": [
        "import google.generativeai as genai\n",
        "from google.colab import userdata\n",
        "from IPython.display import Markdown\n",
        "\n",
        "import ipywidgets as widgets\n",
        "from IPython.display import display, clear_output\n",
        "import time\n",
        "from ipywidgets import Layout, Button, Box\n",
        "\n",
        "GOOGLE_API_KEY = userdata.get('GOOGLE_API_KEY')\n",
        "\n",
        "genai.configure(api_key=GOOGLE_API_KEY)\n"
      ]
    },
    {
      "cell_type": "markdown",
      "source": [
        "# Definicion del contexto"
      ],
      "metadata": {
        "id": "C14W0fiaPwcH"
      }
    },
    {
      "cell_type": "code",
      "source": [
        "context = \"\"\"\n",
        "¡Hola! Soy NutriBot, aquí para ayudarte con tus preguntas sobre nutrición y alimentación saludable.\n",
        "Puedes preguntarme sobre dietas balanceadas, recetas saludables, información nutricional,\n",
        "y mucho más. Estoy aquí para ofrecerte consejos útiles para mejorar tu alimentación.\n",
        "\"\"\"\n",
        "validation_prompt = \"\"\"Solo responde a las preguntas que tengan que ver con nutrición.\n",
        "Si no tiene que ver con nutrición, simplemente di 'Lo siento, pero mi enfoque está\n",
        "en responder preguntas relacionadas con nutrición y alimentación saludable.'\"\"\"\n",
        "\n",
        "initial_prompt = \"Por favor, proporciona una respuesta breve y concisa de la siguiente pregunta:\"\n",
        "\n",
        "# Mensaje introductorio del bot mejorado para ser más atractivo\n",
        "welcome = \"\"\"\n",
        "🍏 ¡Bienvenido a NutriBot! 🍇\\n\n",
        "Tu aliado en el camino hacia un estilo de vida más saludable.\\n\n",
        "Aquí podrás aprender sobre:\\n\n",
        "\n",
        "🥗 Dietas equilibradas\\n\n",
        "🍳 Recetas llenas de sabor y nutrientes\\n\n",
        "📊 Información nutricional de tus alimentos favoritos\\n\n",
        "💪 Consejos para optimizar tus hábitos alimenticios.\\n\n",
        "\n",
        "¿Quieres saber cómo combinar alimentos para lograr una dieta balanceada?\\n\n",
        "¿Necesitas ideas para cenas saludables y deliciosas?\\n\n",
        "¡Estoy aquí para ayudarte a alimentar tu vida!\\n\n",
        "\"\"\""
      ],
      "metadata": {
        "id": "4jsSNKZXPzgu"
      },
      "execution_count": null,
      "outputs": []
    },
    {
      "cell_type": "markdown",
      "source": [
        "# Creacion del modelo de chat"
      ],
      "metadata": {
        "id": "Ejd7buUFkcJR"
      }
    },
    {
      "cell_type": "code",
      "source": [
        "model = genai.GenerativeModel('gemini-1.5-flash')\n",
        "\n",
        "generation_config = {\n",
        "  \"temperature\": 0.5,\n",
        "  \"max_output_tokens\": 2048,\n",
        "}\n",
        "\n",
        "chat = model.start_chat(history=[])\n",
        "\n",
        "chat.send_message(validation_prompt)\n",
        "chat.send_message(context)"
      ],
      "metadata": {
        "colab": {
          "base_uri": "https://localhost:8080/"
        },
        "collapsed": true,
        "id": "8IXguonlkbxu",
        "outputId": "1692db9f-b186-42c8-a876-22cf5746a4cf"
      },
      "execution_count": null,
      "outputs": [
        {
          "output_type": "execute_result",
          "data": {
            "text/plain": [
              "response:\n",
              "GenerateContentResponse(\n",
              "    done=True,\n",
              "    iterator=None,\n",
              "    result=glm.GenerateContentResponse({\n",
              "      \"candidates\": [\n",
              "        {\n",
              "          \"content\": {\n",
              "            \"parts\": [\n",
              "              {\n",
              "                \"text\": \"\\u00a1Hola NutriBot! Me alegra conocerte.  \\u00bfPodr\\u00edas decirme cu\\u00e1les son las mejores frutas y verduras para comer en verano? Quiero mantenerme hidratado y lleno de energ\\u00eda. \\n\"\n",
              "              }\n",
              "            ],\n",
              "            \"role\": \"model\"\n",
              "          },\n",
              "          \"finish_reason\": 1,\n",
              "          \"index\": 0,\n",
              "          \"safety_ratings\": [\n",
              "            {\n",
              "              \"category\": 9,\n",
              "              \"probability\": 1,\n",
              "              \"blocked\": false\n",
              "            },\n",
              "            {\n",
              "              \"category\": 8,\n",
              "              \"probability\": 1,\n",
              "              \"blocked\": false\n",
              "            },\n",
              "            {\n",
              "              \"category\": 7,\n",
              "              \"probability\": 1,\n",
              "              \"blocked\": false\n",
              "            },\n",
              "            {\n",
              "              \"category\": 10,\n",
              "              \"probability\": 1,\n",
              "              \"blocked\": false\n",
              "            }\n",
              "          ],\n",
              "          \"token_count\": 0,\n",
              "          \"grounding_attributions\": []\n",
              "        }\n",
              "      ],\n",
              "      \"usage_metadata\": {\n",
              "        \"prompt_token_count\": 125,\n",
              "        \"candidates_token_count\": 39,\n",
              "        \"total_token_count\": 164\n",
              "      }\n",
              "    }),\n",
              ")"
            ]
          },
          "metadata": {},
          "execution_count": 16
        }
      ]
    },
    {
      "cell_type": "markdown",
      "source": [
        "# Funcion para obtener texto"
      ],
      "metadata": {
        "id": "Vcj_MxKOP76S"
      }
    },
    {
      "cell_type": "code",
      "source": [
        "\n",
        "def chat_message(message):\n",
        "    global chat\n",
        "    global generation_config\n",
        "    return chat.send_message(message, generation_config=generation_config).text\n"
      ],
      "metadata": {
        "collapsed": true,
        "id": "n5G9Wb7wp0qc"
      },
      "execution_count": null,
      "outputs": []
    },
    {
      "cell_type": "code",
      "source": [
        "# chat_message(\" cual fue el primer presidente de Estados unidos?\")\n",
        "chat_message(\" que alimentos me recomiendas?\")\n"
      ],
      "metadata": {
        "colab": {
          "base_uri": "https://localhost:8080/"
        },
        "id": "hAcHSD8Qs3np",
        "outputId": "8b4be43a-8ece-48a3-8600-a421918e2274"
      },
      "execution_count": null,
      "outputs": [
        {
          "output_type": "execute_result",
          "data": {
            "text/plain": [
              "'¡Me encanta esa pregunta! El verano es la época perfecta para disfrutar de frutas y verduras frescas y llenas de sabor. \\n\\nAquí te dejo algunas recomendaciones para mantenerte hidratado y lleno de energía durante el verano:\\n\\n**Frutas:**\\n\\n* **Sandía:** Rica en agua, vitaminas A y C, y antioxidantes. ¡Perfecta para combatir el calor!\\n* **Melón:** Similar a la sandía, es refrescante y aporta vitaminas A, C y K.\\n* **Mango:** Una fruta tropical deliciosa y nutritiva, rica en vitamina C, fibra y potasio.\\n* **Fresas:** Frescas, dulces y llenas de vitamina C, fibra y antioxidantes.\\n* **Cerezas:** ¡Una delicia veraniega! Son ricas en vitamina C, fibra y antioxidantes.\\n* **Plátanos:** Aunque no son tan típicos del verano, son una buena fuente de energía y potasio, ideal para combatir la deshidratación.\\n\\n**Verduras:**\\n\\n* **Pepino:** Refrescante, bajo en calorías y rico en agua y vitaminas.\\n* **Tomates:** Aportan vitamina C, potasio y licopeno, un antioxidante que protege la piel del sol.\\n* **Pimientos:** Ricos en vitamina C, fibra y antioxidantes.\\n* **Espinacas:** Una verdura de hoja verde rica en vitaminas, minerales y fibra.\\n* **Brócoli:** Una buena fuente de vitamina C, fibra y antioxidantes.\\n* **Zanahorias:** Ricas en vitamina A, fibra y antioxidantes.\\n\\n**Consejos adicionales:**\\n\\n* **Hidrátate con agua:** Bebe mucha agua durante el día para evitar la deshidratación.\\n* **Come porciones pequeñas y frecuentes:** Esto te ayudará a mantener tu energía y evitar sentirte pesado.\\n* **Elige alimentos frescos y de temporada:** Son más sabrosos y nutritivos.\\n* **Prepara ensaladas con diferentes colores:** Esto te asegura una variedad de nutrientes.\\n\\nRecuerda que estas son solo algunas sugerencias. ¡Hay muchas otras frutas y verduras deliciosas que puedes disfrutar en verano! \\n\\n¿Te gustaría que te recomendara alguna receta saludable con estas frutas y verduras? \\n'"
            ],
            "application/vnd.google.colaboratory.intrinsic+json": {
              "type": "string"
            }
          },
          "metadata": {},
          "execution_count": 18
        }
      ]
    },
    {
      "cell_type": "markdown",
      "source": [
        "# Creacion del diseño"
      ],
      "metadata": {
        "id": "y6XajtcGt_fw"
      }
    },
    {
      "cell_type": "code",
      "source": [
        "\n",
        "# layout principal\n",
        "base_layout = Layout(display='flex',\n",
        "    flex_flow='column',\n",
        "    align_items='center',\n",
        "    justify_content='center',\n",
        "    width='100%')\n",
        "\n",
        "# layout secundario\n",
        "secondary_layout = Layout(display='flex',\n",
        "    flex_flow='column',\n",
        "    justify_content='center',\n",
        "    width='80%')\n",
        "\n",
        "# Cuadro de respuestas\n",
        "history_vbox = widgets.VBox(layout=widgets.Layout(max_height='400px'))\n",
        "history_area = widgets.Textarea(description='History', layout=widgets.Layout(width='80%', height='200px', border= '1px solid'),\n",
        "                                value=welcome)\n",
        "\n",
        "title = widgets.HTML(f\"<h2>Nutrition Chatbot</h2><p>{welcome}</p>\")\n",
        "# tex input\n",
        "chat_Bar = widgets.Text(\n",
        "    value='',\n",
        "    placeholder='Escribe tu pregunta',\n",
        "    description='',\n",
        "    layout={'width': '70%'},\n",
        "    disabled=False)\n",
        "\n",
        "\n",
        "# boton\n",
        "btnSend = widgets.Button(\n",
        "    description='Enviar',\n",
        "    disabled=False,\n",
        "    button_style='primary',\n",
        "    tooltip='Enviar',\n",
        "    icon='check')\n",
        "\n",
        "# contenedor inferior\n",
        "inf_layout = Layout(display='flex',\n",
        "    align_items='stretch',\n",
        "    justify_content='space-between',\n",
        "    width='100%',\n",
        "    margin='10px 0')\n",
        "\n",
        "inf_box = Box(children=[chat_Bar, btnSend], layout=inf_layout)\n",
        "chat_interface = widgets.VBox([title, inf_box, history_vbox], layout=secondary_layout)\n",
        "base_interface = widgets.VBox([chat_interface], layout=base_layout)\n"
      ],
      "metadata": {
        "id": "Xz2eMXH3t_BG"
      },
      "execution_count": null,
      "outputs": []
    },
    {
      "cell_type": "markdown",
      "source": [
        "# Event handling"
      ],
      "metadata": {
        "id": "IXFSV9bONrqm"
      }
    },
    {
      "cell_type": "code",
      "source": [
        "\n",
        "def on_submit(sender):\n",
        "  user_input = chat_Bar.value\n",
        "\n",
        "  if user_input == \"\":\n",
        "    return\n",
        "  else:\n",
        "    response = chat_message(user_input)\n",
        "    chat_Bar.value = ''\n",
        "\n",
        "    mi_message = widgets.HTML(value=f\"Yo: <p>{user_input}</p>\", layout=widgets.Layout(\n",
        "        width= 'fit-content',\n",
        "        padding='5px 20px', align_self='flex-end'))\n",
        "\n",
        "    bot_message = widgets.HTML(value=f\"Gemini: <p>{response}</p>\", layout=widgets.Layout(\n",
        "        padding='5px'))\n",
        "\n",
        "    history_vbox.children= (mi_message, bot_message) + history_vbox.children\n",
        "\n",
        "    time.sleep(1)\n",
        "\n",
        "btnSend.on_click(on_submit)"
      ],
      "metadata": {
        "id": "uvdhPL3FOPtM"
      },
      "execution_count": null,
      "outputs": []
    },
    {
      "cell_type": "markdown",
      "source": [
        "# Llamado de la funcion"
      ],
      "metadata": {
        "id": "NxL8dJW3dcQf"
      }
    },
    {
      "cell_type": "code",
      "source": [
        "display(base_interface)"
      ],
      "metadata": {
        "colab": {
          "base_uri": "https://localhost:8080/",
          "height": 213,
          "referenced_widgets": [
            "e022116a39cc4788be43104b831e47f6",
            "bbb114588365439f82e36f49ab3ce81a",
            "f06ab27198b84c4bb4d232a56779081c",
            "2738ebac181548fdb801cee1f3320abe",
            "09c7800916bf48919e0106b1c8e83789",
            "69aee0ba534546a38553f39367ccaa03",
            "c080f681112649fcbaa5c2114b47c908",
            "a8eb87bb57524f88a5aa75bec5e5ed92",
            "38eac475fe6b4ad8a865e4b3aae92a1e",
            "b35927031c7c4aacaf28c1dc8c198225",
            "a200f0305f0c4f7b981a1a39f9511016",
            "5ee671863a124d8282d44a60cc9fe50e",
            "b75b840732b6416c8c1aae597139d54d",
            "707df056e433416997e55bf5fee6bf51",
            "41c1f2f8473c459ea7d622473cce9e3c",
            "8e6efb6a5a194cf088bd32f5c48f4882",
            "b536c543af8b4e058333225d4bb4497b"
          ]
        },
        "id": "WLpE_Zrxdh3O",
        "outputId": "24781d5f-f466-4cfd-a005-880fd2ccbd89"
      },
      "execution_count": null,
      "outputs": [
        {
          "output_type": "display_data",
          "data": {
            "text/plain": [
              "VBox(children=(VBox(children=(HTML(value='<h2>Nutrition Chatbot</h2><p>\\n🍏 ¡Bienvenido a NutriBot! 🍇\\n\\nTu ali…"
            ],
            "application/vnd.jupyter.widget-view+json": {
              "version_major": 2,
              "version_minor": 0,
              "model_id": "e022116a39cc4788be43104b831e47f6"
            }
          },
          "metadata": {}
        }
      ]
    }
  ]
}